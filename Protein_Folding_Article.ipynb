{
 "cells": [
  {
   "cell_type": "markdown",
   "id": "c7cba5c9",
   "metadata": {},
   "source": [
    "<font color=\"Maroon\"><h1 style=\"font-size:2em; \"> Protein Folding Exercises! </h1></font><br>\n",
    "<font color=\"DarkSlateBlue\"><p style=\"font-size:17px; \"><b><u> The following code blocks cover:</b></u><br><br>\n",
    "    1. How to introduce mutations by randomly changing the amino acid sequence of a protein<br>\n",
    "    2. How to predict the 3D structure of a protein given its amino acid sequence<br>\n",
    "    3. How to calculate a score of how two protein structures resemble each other</p></font>"
   ]
  },
  {
   "cell_type": "markdown",
   "id": "5cb92eff",
   "metadata": {},
   "source": [
    "<font color=\"DarkSlateBlue\"><p style=\"font-size:16px; \">The next code block reads in the amino acid (AA) sequence from a FASTA formated file as a string called `AA_string`; which is then converted to a list called `AA_list`.<br><br> \n",
    "Then, a mutation is introduced to the amino acid sequence. This is accomplished by randomizing the list based on a user specified percentage and using the `partially_randomize` function. After running this code, you should see a new file in the directory specified by `file_path`, containing the randomized sequence.<br><br>\n",
    "Both the the original and mutated sequences ar`````e saved in FASTA format.<br><br>\n",
    "This code block imports the `random` and `os` Python libraries. You may need to use `pip install` to install these libraries if you haven't done so already.<br><br>\n",
    "    <b>NOTE:</b> Be sure to change the value of `file_path` to match the location of your FASTA file.\n",
    "    </p></font>"
   ]
  },
  {
   "cell_type": "code",
   "execution_count": null,
   "id": "bf3f119c",
   "metadata": {},
   "outputs": [],
   "source": [
    "import random\n",
    "import os\n",
    "\n",
    "def partially_randomize(lst, percent):\n",
    "    n = len(lst)\n",
    "    num_swaps = int(n * percent / 100)  # Calculate the number of swaps based on the percentage\n",
    "    for _ in range(num_swaps):\n",
    "        # Randomly select two indices for swapping\n",
    "        idx1, idx2 = random.randint(0, n-1), random.randint(0, n-1)\n",
    "        lst[idx1], lst[idx2] = lst[idx2], lst[idx1]\n",
    "\n",
    "file_path = r'D:/Python/Protein Structure/Mouse class II alcohol dehydrogenase complex with NADH/rcsb_pdb_1E3E.fasta'\n",
    "\n",
    "# Open the file in read mode\n",
    "with open(file_path, 'r') as fasta_file:\n",
    "    header = fasta_file.readline()\n",
    "    AA = fasta_file.readlines() \n",
    "\n",
    "AA_string = ''.join([line.strip() for line in AA])\n",
    "AA_list = list(AA_string)\n",
    "\n",
    "p = float(input(\"Enter the percentage to randomize the sequences: \"))\n",
    "\n",
    "lst_copy = AA_list.copy()\n",
    "partially_randomize(lst_copy, p)\n",
    "randomized_file_name = f\"rcsb_pdb_1E3E_{p}pct_randomized.fasta\"\n",
    "file_dir = os.path.dirname(file_path)\n",
    "randomized_file_path = os.path.join(file_dir, randomized_file_name)\n",
    "with open(randomized_file_path, 'w') as rand_file:\n",
    "    rand_file.write(header)\n",
    "    rand_file.write(''.join(lst_copy))"
   ]
  },
  {
   "cell_type": "markdown",
   "id": "69952fc2",
   "metadata": {},
   "source": [
    "<font color=\"DarkSlateBlue\"><p style=\"font-size:16px; \">The following code block predicts the 3D shape of a protein using `ESMfold`. The amino acid sequence of the protein is read from a FASTA formatted file using the function `load_sequence_from_fasta` and passes it to the function `predict_3d_structure` to predict the 3D structure by using the `ESMFold API`. The predicted 3D structure is saved to a file in PDB format.<br><br>\n",
    " <b>NOTE:</b> FASTA files generated in the previous code block can be used as input for this code.<br>\n",
    " <b>NOTE:</b> Be sure to change the value of `file_path` to match the location of your FASTA file.<br><br>\n",
    " The following Python libraries are used in this code block: `requests`, `Bio`, and `SeqIO`. You may need to use `pip install` to install these libraries if you haven't done so already.\n",
    "  </p></font>"
   ]
  },
  {
   "cell_type": "code",
   "execution_count": null,
   "id": "25af6d7d",
   "metadata": {},
   "outputs": [],
   "source": [
    "import requests\n",
    "from Bio import SeqIO\n",
    "\n",
    "def load_sequence_from_fasta(file_path):\n",
    "    # Load the sequence from a '.fasta' file\n",
    "    with open(file_path, 'r') as fasta_file:\n",
    "        sequence_record = SeqIO.read(fasta_file, 'fasta')\n",
    "    return str(sequence_record.seq)\n",
    "\n",
    "def predict_3d_structure(sequence):\n",
    "    headers = {'Content-Type': 'application/x-www-form-urlencoded',}\n",
    "    response = requests.post('https://api.esmatlas.com/foldSequence/v1/pdb/', headers=headers, data=sequence)\n",
    "    pdb_string = response.content.decode('utf-8')\n",
    "\n",
    "    with open('predicted.pdb', 'w') as f:\n",
    "        f.write(pdb_string)\n",
    "\n",
    "file_path = r'D:/Python/Protein Structure/Mouse class II alcohol dehydrogenase complex with NADH/rcsb_pdb_1E3E.fasta'\n",
    "        \n",
    "# Load sequence from FASTA file\n",
    "sequence = load_sequence_from_fasta(file_path)\n",
    "\n",
    "# Call the function with the input sequence\n",
    "predict_3d_structure(sequence)"
   ]
  },
  {
   "cell_type": "markdown",
   "id": "3c8d863a",
   "metadata": {},
   "source": [
    "<font color=\"DarkSlateBlue\"><p style=\"font-size:16px; \">The following code block compares the 3D structure of two proteins. It reads in two protein structures in PDB format. Then, it aligns all the atoms in the protein and calculates the RMSD value.<br><br>\n",
    " <b>NOTE:</b> Be sure to change the value of `file_path` to match the location of the PDB files.<br>\n",
    " <b>NOTE:</b> PBD files generated in the previous block can be used as input for this code.<br><br>\n",
    " The following Python libraries are used in this code block: `requests`, `Bio`, and `SeqIO`. You may need to use `pip install` to install these libraries if you haven't done so already.\n",
    "  </p></font>"
   ]
  },
  {
   "cell_type": "code",
   "execution_count": null,
   "id": "fc1de06d",
   "metadata": {},
   "outputs": [],
   "source": [
    "# This code will compare the 3D structure of two proteins. It first reads in two PDB files.\n",
    "# Then, it aligns all the atoms in the protein and calculates the RMSD value. \n",
    "\n",
    "from Bio.PDB import PDBParser, Superimposer\n",
    "\n",
    "# Read PDB files\n",
    "parser = PDBParser()\n",
    "file_path1 = r'D:/Python/Protein Structure/original.pdb'\n",
    "file_path2 = r'D:/Python/Protein Structure/predicted.pdb'\n",
    "structure1 = parser.get_structure(\"Original\", file_path1)\n",
    "structure2 = parser.get_structure(\"predicted\", file_path2)\n",
    "\n",
    "# Get all atoms from the protein structures\n",
    "atoms1 = list(structure1.get_atoms())\n",
    "atoms2 = list(structure2.get_atoms())\n",
    "\n",
    "# Check if the number of atoms is the same in both proteins\n",
    "if len(atoms1) != len(atoms2):\n",
    "    print(\"The number of atoms in both structures is different. Structural alignment may not be meaningful.\")\n",
    "else:\n",
    "    # Perform structural alignment\n",
    "    sup = Superimposer()\n",
    "    sup.set_atoms(atoms1, atoms2)\n",
    "\n",
    "    # Get the RMSD (root mean squared deviation) value after alignment\n",
    "    rmsd = sup.rms\n",
    "\n",
    "    print(\"RMSD: \", rmsd)"
   ]
  }
 ],
 "metadata": {
  "kernelspec": {
   "display_name": "Python 3 (ipykernel)",
   "language": "python",
   "name": "python3"
  },
  "language_info": {
   "codemirror_mode": {
    "name": "ipython",
    "version": 3
   },
   "file_extension": ".py",
   "mimetype": "text/x-python",
   "name": "python",
   "nbconvert_exporter": "python",
   "pygments_lexer": "ipython3",
   "version": "3.10.9"
  }
 },
 "nbformat": 4,
 "nbformat_minor": 5
}
